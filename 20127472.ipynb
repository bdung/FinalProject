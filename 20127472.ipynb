{
 "cells": [
  {
   "cell_type": "markdown",
   "metadata": {},
   "source": [
    "<h1>Final Project</h1>\n",
    "\n",
    "Full name: Bùi Thị Dung\n",
    "\n",
    "Student ID: 20127472"
   ]
  },
  {
   "attachments": {},
   "cell_type": "markdown",
   "metadata": {},
   "source": [
    "### Link github [here](https://github.com/bdung/FinalProject.git) "
   ]
  },
  {
   "attachments": {},
   "cell_type": "markdown",
   "metadata": {},
   "source": [
    "<h3> Programming environment</h3>"
   ]
  },
  {
   "cell_type": "code",
   "execution_count": 1,
   "metadata": {},
   "outputs": [
    {
     "data": {
      "text/plain": [
       "'e:\\\\anaconda\\\\envs\\\\min_ds-env\\\\python.exe'"
      ]
     },
     "execution_count": 1,
     "metadata": {},
     "output_type": "execute_result"
    }
   ],
   "source": [
    "import sys\n",
    "sys.executable"
   ]
  },
  {
   "cell_type": "markdown",
   "metadata": {},
   "source": [
    "<h3>Import necessary libraries</h3>"
   ]
  },
  {
   "cell_type": "code",
   "execution_count": 2,
   "metadata": {},
   "outputs": [],
   "source": [
    "import pandas as pd\n",
    "import numpy as np\n",
    "import re\n",
    "import operator\n",
    "from collections import Counter\n",
    "import matplotlib.pyplot as plt"
   ]
  },
  {
   "attachments": {},
   "cell_type": "markdown",
   "metadata": {},
   "source": [
    "## 1. Collecting data"
   ]
  },
  {
   "attachments": {},
   "cell_type": "markdown",
   "metadata": {},
   "source": [
    "<h3> Data collection</h3>"
   ]
  },
  {
   "attachments": {},
   "cell_type": "markdown",
   "metadata": {},
   "source": [
    "In this assigment, I will use data in file \"data.csv\".\n",
    "The data is about product listing from Amazon India. You can find more detail about data in Kaggle [this link](https://www.kaggle.com/datasets/promptcloud/product-listing-from-amazon-india?fbclid=IwAR35mYSniLTkn1ZedNxc_m9UNbuIksUAjAfpTRp9ystlxaZZVOMZIkFNKiI).\n",
    "\n",
    "<p><b>Author: </b> PromptCloud and DataStock.</p>\n",
    "<p><b>License: </b> CC0: Public Domain.</p>\n",
    "<p><b>How to collect author data: </b>  parse HTML of website and save to csv file</p>"
   ]
  },
  {
   "cell_type": "markdown",
   "metadata": {},
   "source": [
    "## 2. Exploring data"
   ]
  },
  {
   "attachments": {},
   "cell_type": "markdown",
   "metadata": {},
   "source": [
    "### Data exploration"
   ]
  },
  {
   "cell_type": "markdown",
   "metadata": {},
   "source": [
    "<h4>Store data to a dataframe"
   ]
  },
  {
   "cell_type": "code",
   "execution_count": 3,
   "metadata": {},
   "outputs": [
    {
     "data": {
      "text/html": [
       "<div>\n",
       "<style scoped>\n",
       "    .dataframe tbody tr th:only-of-type {\n",
       "        vertical-align: middle;\n",
       "    }\n",
       "\n",
       "    .dataframe tbody tr th {\n",
       "        vertical-align: top;\n",
       "    }\n",
       "\n",
       "    .dataframe thead th {\n",
       "        text-align: right;\n",
       "    }\n",
       "</style>\n",
       "<table border=\"1\" class=\"dataframe\">\n",
       "  <thead>\n",
       "    <tr style=\"text-align: right;\">\n",
       "      <th></th>\n",
       "      <th>Uniq Id</th>\n",
       "      <th>Crawl Timestamp</th>\n",
       "      <th>Category</th>\n",
       "      <th>Product Title</th>\n",
       "      <th>Product Description</th>\n",
       "      <th>Brand</th>\n",
       "      <th>Pack Size Or Quantity</th>\n",
       "      <th>Mrp</th>\n",
       "      <th>Price</th>\n",
       "      <th>Site Name</th>\n",
       "      <th>Offers</th>\n",
       "      <th>Combo Offers</th>\n",
       "      <th>Stock Availibility</th>\n",
       "      <th>Product Asin</th>\n",
       "      <th>Image Urls</th>\n",
       "    </tr>\n",
       "  </thead>\n",
       "  <tbody>\n",
       "    <tr>\n",
       "      <th>0</th>\n",
       "      <td>eb49cc038190f6f03c272f79fbbce894</td>\n",
       "      <td>2019-10-30 11:38:11 +0000</td>\n",
       "      <td>Skin Care</td>\n",
       "      <td>Lee posh Lactic Acid 60% Anti ageing Pigmenta...</td>\n",
       "      <td>PROFESSIONAL GRADE Face Peel: this peel stimul...</td>\n",
       "      <td>Lee Posh</td>\n",
       "      <td>NaN</td>\n",
       "      <td>2000.00</td>\n",
       "      <td>799.00</td>\n",
       "      <td>Amazon In</td>\n",
       "      <td>60.05%</td>\n",
       "      <td>NaN</td>\n",
       "      <td>YES</td>\n",
       "      <td>B072BGHNJ1</td>\n",
       "      <td>https://images-na.ssl-images-amazon.com/images...</td>\n",
       "    </tr>\n",
       "    <tr>\n",
       "      <th>1</th>\n",
       "      <td>1657cc30c438affede6a5060d6847363</td>\n",
       "      <td>2019-10-31 15:46:54 +0000</td>\n",
       "      <td>Skin Care</td>\n",
       "      <td>Branded SLB Works New 1.5mm Titanium 1200 nee...</td>\n",
       "      <td>Item name: 1.5mm titanium 1200 needles microne...</td>\n",
       "      <td>SLB Works</td>\n",
       "      <td>NaN</td>\n",
       "      <td>2040.00</td>\n",
       "      <td>2040.00</td>\n",
       "      <td>Amazon In</td>\n",
       "      <td>0%</td>\n",
       "      <td>NaN</td>\n",
       "      <td>YES</td>\n",
       "      <td>B07QDTZYSJ</td>\n",
       "      <td>https://images-na.ssl-images-amazon.com/images...</td>\n",
       "    </tr>\n",
       "    <tr>\n",
       "      <th>2</th>\n",
       "      <td>41654633cce38c8650690f6dbac01fd3</td>\n",
       "      <td>2019-10-30 09:53:23 +0000</td>\n",
       "      <td>Skin Care</td>\n",
       "      <td>Generic 1 Pc brand snail eye cream remove dar...</td>\n",
       "      <td>Use: eye, item type: cream, net wt: 20g, gzzz:...</td>\n",
       "      <td>Generic</td>\n",
       "      <td>NaN</td>\n",
       "      <td>1824.00</td>\n",
       "      <td>1042.00</td>\n",
       "      <td>Amazon In</td>\n",
       "      <td>42.87%</td>\n",
       "      <td>NaN</td>\n",
       "      <td>YES</td>\n",
       "      <td>B07DCSN8MP</td>\n",
       "      <td>https://images-na.ssl-images-amazon.com/images...</td>\n",
       "    </tr>\n",
       "    <tr>\n",
       "      <th>3</th>\n",
       "      <td>08b1bd85c3efc2d7aa556fd79b073382</td>\n",
       "      <td>2019-10-29 16:16:52 +0000</td>\n",
       "      <td>Skin Care</td>\n",
       "      <td>Generic Anti Snoring Snore Stopper Sleep Apne...</td>\n",
       "      <td>Prevent the tongue from dropping backward or b...</td>\n",
       "      <td>Generic</td>\n",
       "      <td>NaN</td>\n",
       "      <td>2185.00</td>\n",
       "      <td>1399.00</td>\n",
       "      <td>Amazon In</td>\n",
       "      <td>35.97%</td>\n",
       "      <td>NaN</td>\n",
       "      <td>YES</td>\n",
       "      <td>B07GLW9VQN</td>\n",
       "      <td>https://images-na.ssl-images-amazon.com/images...</td>\n",
       "    </tr>\n",
       "    <tr>\n",
       "      <th>4</th>\n",
       "      <td>3ac3f213732512d1d11bb73ab3b1900f</td>\n",
       "      <td>2019-10-31 09:32:06 +0000</td>\n",
       "      <td>Grocery &amp; Gourmet Foods</td>\n",
       "      <td>Harveys Crunchy &amp; Creame Gourmet Delicacies C...</td>\n",
       "      <td>Harvey's wafer Cream Wafer 110g. Made in India</td>\n",
       "      <td>Harveys</td>\n",
       "      <td>NaN</td>\n",
       "      <td>594.00</td>\n",
       "      <td>570.00</td>\n",
       "      <td>Amazon In</td>\n",
       "      <td>4.04%</td>\n",
       "      <td>NaN</td>\n",
       "      <td>YES</td>\n",
       "      <td>B07NFYYLF1</td>\n",
       "      <td>https://images-na.ssl-images-amazon.com/images...</td>\n",
       "    </tr>\n",
       "  </tbody>\n",
       "</table>\n",
       "</div>"
      ],
      "text/plain": [
       "                            Uniq Id            Crawl Timestamp  \\\n",
       "0  eb49cc038190f6f03c272f79fbbce894  2019-10-30 11:38:11 +0000   \n",
       "1  1657cc30c438affede6a5060d6847363  2019-10-31 15:46:54 +0000   \n",
       "2  41654633cce38c8650690f6dbac01fd3  2019-10-30 09:53:23 +0000   \n",
       "3  08b1bd85c3efc2d7aa556fd79b073382  2019-10-29 16:16:52 +0000   \n",
       "4  3ac3f213732512d1d11bb73ab3b1900f  2019-10-31 09:32:06 +0000   \n",
       "\n",
       "                  Category                                      Product Title  \\\n",
       "0                Skin Care   Lee posh Lactic Acid 60% Anti ageing Pigmenta...   \n",
       "1                Skin Care   Branded SLB Works New 1.5mm Titanium 1200 nee...   \n",
       "2                Skin Care   Generic 1 Pc brand snail eye cream remove dar...   \n",
       "3                Skin Care   Generic Anti Snoring Snore Stopper Sleep Apne...   \n",
       "4  Grocery & Gourmet Foods   Harveys Crunchy & Creame Gourmet Delicacies C...   \n",
       "\n",
       "                                 Product Description      Brand  \\\n",
       "0  PROFESSIONAL GRADE Face Peel: this peel stimul...   Lee Posh   \n",
       "1  Item name: 1.5mm titanium 1200 needles microne...  SLB Works   \n",
       "2  Use: eye, item type: cream, net wt: 20g, gzzz:...    Generic   \n",
       "3  Prevent the tongue from dropping backward or b...    Generic   \n",
       "4     Harvey's wafer Cream Wafer 110g. Made in India    Harveys   \n",
       "\n",
       "  Pack Size Or Quantity      Mrp    Price  Site Name  Offers Combo Offers  \\\n",
       "0                   NaN  2000.00   799.00  Amazon In  60.05%          NaN   \n",
       "1                   NaN  2040.00  2040.00  Amazon In      0%          NaN   \n",
       "2                   NaN  1824.00  1042.00  Amazon In  42.87%          NaN   \n",
       "3                   NaN  2185.00  1399.00  Amazon In  35.97%          NaN   \n",
       "4                   NaN   594.00   570.00  Amazon In   4.04%          NaN   \n",
       "\n",
       "  Stock Availibility Product Asin  \\\n",
       "0                YES   B072BGHNJ1   \n",
       "1                YES   B07QDTZYSJ   \n",
       "2                YES   B07DCSN8MP   \n",
       "3                YES   B07GLW9VQN   \n",
       "4                YES   B07NFYYLF1   \n",
       "\n",
       "                                          Image Urls  \n",
       "0  https://images-na.ssl-images-amazon.com/images...  \n",
       "1  https://images-na.ssl-images-amazon.com/images...  \n",
       "2  https://images-na.ssl-images-amazon.com/images...  \n",
       "3  https://images-na.ssl-images-amazon.com/images...  \n",
       "4  https://images-na.ssl-images-amazon.com/images...  "
      ]
     },
     "execution_count": 3,
     "metadata": {},
     "output_type": "execute_result"
    }
   ],
   "source": [
    "data_df = pd.read_csv('data.csv')\n",
    "data_df.head()"
   ]
  },
  {
   "cell_type": "markdown",
   "metadata": {},
   "source": [
    "### How many rows and how many columns?\n"
   ]
  },
  {
   "cell_type": "markdown",
   "metadata": {},
   "source": [
    "Use pandas to find the number of rows and columns and store in 2 variables `num_rows` and `num_cols`."
   ]
  },
  {
   "cell_type": "code",
   "execution_count": 4,
   "metadata": {},
   "outputs": [
    {
     "data": {
      "text/plain": [
       "(30000, 15)"
      ]
     },
     "execution_count": 4,
     "metadata": {},
     "output_type": "execute_result"
    }
   ],
   "source": [
    "num_rows = len(data_df)\n",
    "num_cols = len(data_df.columns)\n",
    "num_rows, num_cols"
   ]
  },
  {
   "cell_type": "markdown",
   "metadata": {},
   "source": [
    "### What is the meaning of each row?"
   ]
  },
  {
   "cell_type": "markdown",
   "metadata": {},
   "source": [
    "According to data description of the product and by taking a quick look at the data, each line provides information about a case. It seems that there is no outlier line."
   ]
  },
  {
   "cell_type": "markdown",
   "metadata": {},
   "source": [
    "###  Are there duplicated rows?"
   ]
  },
  {
   "cell_type": "markdown",
   "metadata": {},
   "source": [
    "You are going to check that and save the result into `have_duplicated_rows`. The value of this variable is `True` if the data is duplicated and vice versa."
   ]
  },
  {
   "cell_type": "code",
   "execution_count": 5,
   "metadata": {},
   "outputs": [
    {
     "name": "stdout",
     "output_type": "stream",
     "text": [
      "Not duplicated\n"
     ]
    }
   ],
   "source": [
    "have_duplicated_rows = any(data_df.duplicated())\n",
    "if have_duplicated_rows:\n",
    "    print('Duplicated')\n",
    "else :\n",
    "    print ('Not duplicated')"
   ]
  },
  {
   "cell_type": "markdown",
   "metadata": {},
   "source": [
    "### What is the meaning of row?"
   ]
  },
  {
   "cell_type": "markdown",
   "metadata": {},
   "source": [
    "According to the data description of the course about the file \"data.csv\":\n",
    "- **Uniq Id**:  unique identifier for each observation (random)\n",
    "- **Crawl Timestamp**: Time to collect information\n",
    "- **Category**: category product\n",
    "- **Product Title**: Product title\n",
    "- **Product Description**: Product Description\n",
    "- **Brand**: Brand of the product\n",
    "- **Pack Size Or Quantity**:Size of package or quality of product\n",
    "- **Mrp**:Maximum retail price\n",
    "- **Price**: actual selling price\n",
    "- **Site Name**: Websites that sell products\n",
    "- **Offers**: Sale\n",
    "- **Combo Offers**: Combo offers provided by sellers.\n",
    "- **Stock Availibility**: In stock (If in stock, then YES, out of stock, NO).\n",
    "- **Product Asin**: ASIN (Amazon Standard Identification Number)is the product code marked by Amazon. Each code consists of 10 characters with letters and numbers\n",
    "- **Image Urls**: Link picture product"
   ]
  },
  {
   "cell_type": "markdown",
   "metadata": {},
   "source": [
    "### What is the current data type of each column? Are there columns having inappropriate data types?"
   ]
  },
  {
   "attachments": {},
   "cell_type": "markdown",
   "metadata": {},
   "source": [
    "Check the datatype (`dtype`) of each element in a column in `data_df` and store the results in a series named `col_dtypes`. The index of this series is the name of the columns."
   ]
  },
  {
   "cell_type": "code",
   "execution_count": 6,
   "metadata": {},
   "outputs": [
    {
     "data": {
      "text/plain": [
       "Uniq Id                  object\n",
       "Crawl Timestamp          object\n",
       "Category                 object\n",
       "Product Title            object\n",
       "Product Description      object\n",
       "Brand                    object\n",
       "Pack Size Or Quantity    object\n",
       "Mrp                      object\n",
       "Price                    object\n",
       "Site Name                object\n",
       "Offers                   object\n",
       "Combo Offers             object\n",
       "Stock Availibility       object\n",
       "Product Asin             object\n",
       "Image Urls               object\n",
       "dtype: object"
      ]
     },
     "execution_count": 6,
     "metadata": {},
     "output_type": "execute_result"
    }
   ],
   "source": [
    "col_dtypes = data_df.dtypes\n",
    "col_dtypes"
   ]
  },
  {
   "cell_type": "markdown",
   "metadata": {},
   "source": [
    "**What does that mean by saying that `dtype` is `object`?**"
   ]
  },
  {
   "cell_type": "markdown",
   "metadata": {},
   "source": [
    "There are 15 columns with the datatype of `object`: \"Uniq Id\", \"Crawl Timestamp\", \"Category\", \"Product Title\",\"Product Description\", \"Brand\", \"Pack Size Or Quantity\", \"Mrp\", \"Price\", \"Site Name\", \"Offers\", \"Combo Offers\", \"Stock Availibility\", \"Product Asin\", \"Product Description\", \"Image Urls\". In Pandas, `object` types usually refer to strings. But in fact, an element of `object` type can contain any object in Python as they store the addresses of variables. If the datatype of a column in dataframe is `object`, the datatype of elements in that column can be different from each other. In order to specify the datatype of elements in column, you have to access each of them (e.g. `type(column.iloc[i])`). \n",
    "Your work is to write a function that has the series as input and the datatypes of elements in column as output. You can use the `apply` method."
   ]
  },
  {
   "cell_type": "code",
   "execution_count": 7,
   "metadata": {},
   "outputs": [
    {
     "name": "stdout",
     "output_type": "stream",
     "text": [
      "Uniq Id {<class 'str'>}\n",
      "Crawl Timestamp {<class 'str'>}\n",
      "Category {<class 'str'>}\n",
      "Product Title {<class 'str'>}\n",
      "Product Description {<class 'str'>, <class 'float'>}\n",
      "Brand {<class 'str'>, <class 'float'>}\n",
      "Pack Size Or Quantity {<class 'str'>, <class 'float'>}\n",
      "Mrp {<class 'str'>, <class 'float'>}\n",
      "Price {<class 'str'>, <class 'float'>}\n",
      "Site Name {<class 'str'>}\n",
      "Offers {<class 'str'>, <class 'float'>}\n",
      "Combo Offers {<class 'str'>, <class 'float'>}\n",
      "Stock Availibility {<class 'str'>}\n",
      "Product Asin {<class 'str'>}\n",
      "Image Urls {<class 'str'>}\n"
     ]
    }
   ],
   "source": [
    "def open_object_dtype(s):\n",
    "    dtypes = set()\n",
    "    s.agg(lambda x : dtypes.add(type(x)))\n",
    "    \n",
    "    return dtypes\n",
    "\n",
    "print('Uniq Id',open_object_dtype(data_df['Uniq Id']))\n",
    "print('Crawl Timestamp',open_object_dtype(data_df['Crawl Timestamp']))\n",
    "print('Category',open_object_dtype(data_df['Category']))\n",
    "print('Product Title',open_object_dtype(data_df['Product Title']))\n",
    "print('Product Description',open_object_dtype(data_df['Product Description']))\n",
    "print('Brand',open_object_dtype(data_df['Brand']))\n",
    "print('Pack Size Or Quantity',open_object_dtype(data_df['Pack Size Or Quantity']))\n",
    "print('Mrp',open_object_dtype(data_df['Mrp']))\n",
    "print('Price',open_object_dtype(data_df['Price']))\n",
    "print('Site Name',open_object_dtype(data_df['Site Name']))\n",
    "print('Offers',open_object_dtype(data_df['Offers']))\n",
    "print('Combo Offers',open_object_dtype(data_df['Combo Offers']))\n",
    "print('Stock Availibility',open_object_dtype(data_df['Stock Availibility']))\n",
    "print('Product Asin',open_object_dtype(data_df['Product Asin']))\n",
    "print('Image Urls',open_object_dtype(data_df['Image Urls']))\n"
   ]
  },
  {
   "attachments": {},
   "cell_type": "markdown",
   "metadata": {},
   "source": [
    "#### Before continuing\n",
    "- The datatype of column \"Crawl Timestamp\" is `str`. In order for you to explore more about the data, you have to change the datatype to `datetime`.\n",
    "- Column \"Mrp\", \"Offers ,\"Price\" and \"Pack Size Or Quantity\" contain `str` and `float` data. You also have to change the datatype to `float`."
   ]
  },
  {
   "cell_type": "markdown",
   "metadata": {},
   "source": [
    "## Proprocess\n"
   ]
  },
  {
   "cell_type": "markdown",
   "metadata": {},
   "source": [
    "### Change the dtype of \"Crawl Timestamp\" to `datetime `"
   ]
  },
  {
   "cell_type": "code",
   "execution_count": 8,
   "metadata": {},
   "outputs": [
    {
     "data": {
      "text/plain": [
       "0       2019-10-30 11:38:11+00:00\n",
       "1       2019-10-31 15:46:54+00:00\n",
       "2       2019-10-30 09:53:23+00:00\n",
       "3       2019-10-29 16:16:52+00:00\n",
       "4       2019-10-31 09:32:06+00:00\n",
       "                   ...           \n",
       "29995   2019-10-31 06:29:39+00:00\n",
       "29996   2019-10-30 04:10:36+00:00\n",
       "29997   2019-10-30 22:54:39+00:00\n",
       "29998   2019-10-31 08:20:12+00:00\n",
       "29999   2019-10-30 07:54:05+00:00\n",
       "Name: Crawl Timestamp, Length: 30000, dtype: datetime64[ns, UTC]"
      ]
     },
     "execution_count": 8,
     "metadata": {},
     "output_type": "execute_result"
    }
   ],
   "source": [
    "data_df[\"Crawl Timestamp\"] = pd.to_datetime(data_df[\"Crawl Timestamp\"] ,format= \"%Y-%m-%d %H:%M:%S\")\n",
    "data_df[\"Crawl Timestamp\"]"
   ]
  },
  {
   "cell_type": "markdown",
   "metadata": {},
   "source": [
    "### Change the dtype of \"Mrp\" and \"Price\" to `float `"
   ]
  },
  {
   "attachments": {},
   "cell_type": "markdown",
   "metadata": {},
   "source": [
    "- Column `Mrp` have 2 dtypes is `str`  and `float`.`float` is for NaN, and `str` is for string (numeric).\n",
    "- Check the `Mrp` column, we see that it contains 1 character '.' at in string . For example 594.00, this makes it very difficult to convert data from string to float. To handle this we use the `lstrip` function to remove the '.' in strings.\n",
    "- There are some empty columns of data, so we will convert the values ​​of these empty columns to NaN.\n",
    "- Similar to 'Mrp', the 'Price' column is also handled as above."
   ]
  },
  {
   "cell_type": "code",
   "execution_count": 9,
   "metadata": {},
   "outputs": [],
   "source": [
    "#Mrp\n",
    "# replace columns space to NaN\n",
    "data_df['Mrp'] = data_df['Mrp'].replace(r'^\\s*$', np.nan, regex=True)\n",
    "# Remove '.' in string\n",
    "data_df[\"Mrp\"] = data_df[\"Mrp\"].str.lstrip('.')\n",
    "# Change data types\n",
    "data_df['Mrp'] = data_df['Mrp'].astype(float)\n",
    "\n",
    "#Price\n",
    "# replace columns space to NaN\n",
    "data_df['Price'] = data_df['Price'].replace(r'^\\s*$', np.nan, regex=True)\n",
    "# Remove '.' in string\n",
    "data_df[\"Price\"] = data_df[\"Price\"].str.lstrip('.')\n",
    "# Change data types\n",
    "data_df['Price'] = data_df['Price'].astype(float)"
   ]
  },
  {
   "attachments": {},
   "cell_type": "markdown",
   "metadata": {},
   "source": [
    "### Change the dtype of \"Offers\" to `float `\n",
    "\n",
    "Column \"Offers\"  have 2 dtypes is `str`  and `float`.`float` is for NaN and `str` is for string with '%' character after it.\n",
    ". So we do the cast for the data cells as NaN from float to string, then cut off the % behind."
   ]
  },
  {
   "cell_type": "code",
   "execution_count": 10,
   "metadata": {},
   "outputs": [],
   "source": [
    "data_df[\"Offers\"]= data_df[\"Offers\"].str.replace('%','')\n",
    "data_df[\"Offers\"] = data_df['Offers'].astype(float)\n"
   ]
  },
  {
   "cell_type": "markdown",
   "metadata": {},
   "source": [
    "### Change the dtype of `Pack Size Or Quantity` to `float`"
   ]
  },
  {
   "attachments": {},
   "cell_type": "markdown",
   "metadata": {},
   "source": [
    "- The column `Pack Size Or Quantity` has dtypes of two types, `str` and `float`. `float` is for NaN, and `str` is for string(product weight)\n",
    "- We use the apply method to cut off the mass unit (g/gram/kilogram/Kg) of the string and convert the string from `str` to `float`. If the original sequence is waiting for the mass unit to be Kg/kilogram, then multiply by 1000 ."
   ]
  },
  {
   "cell_type": "code",
   "execution_count": 11,
   "metadata": {},
   "outputs": [
    {
     "data": {
      "text/plain": [
       "0       NaN\n",
       "1       NaN\n",
       "2       NaN\n",
       "3       NaN\n",
       "4       NaN\n",
       "         ..\n",
       "29995   NaN\n",
       "29996   NaN\n",
       "29997   NaN\n",
       "29998   NaN\n",
       "29999   NaN\n",
       "Name: Pack Size Or Quantity, Length: 30000, dtype: float64"
      ]
     },
     "execution_count": 11,
     "metadata": {},
     "output_type": "execute_result"
    }
   ],
   "source": [
    "def change_unit(x):\n",
    "    if(type(x) == str):\n",
    "        try:\n",
    "            num = float(re.findall('\\d+', x)[0])\n",
    "        except:\n",
    "            return np.nan\n",
    "        if('K' in x):\n",
    "            num = num * 1000\n",
    "        return num\n",
    "\n",
    "data_df['Pack Size Or Quantity'] = data_df['Pack Size Or Quantity'].replace(r'^\\s*$', np.nan, regex=True)\n",
    "data_df['Pack Size Or Quantity'] = data_df['Pack Size Or Quantity'].apply(change_unit)\n",
    "\n",
    "data_df['Pack Size Or Quantity']\n"
   ]
  },
  {
   "cell_type": "markdown",
   "metadata": {},
   "source": [
    "## Data exploration (cont.)"
   ]
  },
  {
   "cell_type": "markdown",
   "metadata": {},
   "source": [
    "### With each numerical column, how are values distributed?"
   ]
  },
  {
   "attachments": {},
   "cell_type": "markdown",
   "metadata": {},
   "source": [
    "There are only 5 numeric columns: \"Crawl Timestamp\", \"Pack Size Or Quantity\", \"Mrp\", \"Price\", \"Offers\".\n",
    "\n",
    "For each of numeric column, we will compute the percentage of missing values; min, max value and store them into a dataframe named `nume_col_profiles_df`. This dataframe contains 3 rows (\"missing_ratio\", \"min\", \"max\") and 5 columns (\"Crawl Timestamp\", \"Pack Size Or Quantity\", \"Mrp\", \"Price\", \"Offers\")."
   ]
  },
  {
   "cell_type": "code",
   "execution_count": 12,
   "metadata": {},
   "outputs": [
    {
     "data": {
      "text/html": [
       "<div>\n",
       "<style scoped>\n",
       "    .dataframe tbody tr th:only-of-type {\n",
       "        vertical-align: middle;\n",
       "    }\n",
       "\n",
       "    .dataframe tbody tr th {\n",
       "        vertical-align: top;\n",
       "    }\n",
       "\n",
       "    .dataframe thead th {\n",
       "        text-align: right;\n",
       "    }\n",
       "</style>\n",
       "<table border=\"1\" class=\"dataframe\">\n",
       "  <thead>\n",
       "    <tr style=\"text-align: right;\">\n",
       "      <th></th>\n",
       "      <th>Crawl Timestamp</th>\n",
       "      <th>Pack Size Or Quantity</th>\n",
       "      <th>Mrp</th>\n",
       "      <th>Price</th>\n",
       "      <th>Offers</th>\n",
       "    </tr>\n",
       "  </thead>\n",
       "  <tbody>\n",
       "    <tr>\n",
       "      <th>missing_ratio</th>\n",
       "      <td>0.0</td>\n",
       "      <td>65.926667</td>\n",
       "      <td>2.33</td>\n",
       "      <td>2.0</td>\n",
       "      <td>1.553333</td>\n",
       "    </tr>\n",
       "    <tr>\n",
       "      <th>min</th>\n",
       "      <td>2019-10-28 14:30:19+00:00</td>\n",
       "      <td>4.000000</td>\n",
       "      <td>12.00</td>\n",
       "      <td>12.0</td>\n",
       "      <td>0.000000</td>\n",
       "    </tr>\n",
       "    <tr>\n",
       "      <th>max</th>\n",
       "      <td>2019-10-31 19:13:19+00:00</td>\n",
       "      <td>650000.000000</td>\n",
       "      <td>80000.00</td>\n",
       "      <td>21990.0</td>\n",
       "      <td>97.240000</td>\n",
       "    </tr>\n",
       "  </tbody>\n",
       "</table>\n",
       "</div>"
      ],
      "text/plain": [
       "                         Crawl Timestamp  Pack Size Or Quantity       Mrp  \\\n",
       "missing_ratio                        0.0              65.926667      2.33   \n",
       "min            2019-10-28 14:30:19+00:00               4.000000     12.00   \n",
       "max            2019-10-31 19:13:19+00:00          650000.000000  80000.00   \n",
       "\n",
       "                 Price     Offers  \n",
       "missing_ratio      2.0   1.553333  \n",
       "min               12.0   0.000000  \n",
       "max            21990.0  97.240000  "
      ]
     },
     "execution_count": 12,
     "metadata": {},
     "output_type": "execute_result"
    }
   ],
   "source": [
    "nume_col_profiles = data_df.loc[:,['Crawl Timestamp','Pack Size Or Quantity','Mrp','Price','Offers']]\n",
    "missing_ratio = nume_col_profiles.isnull().sum(axis=0)/num_rows * 100\n",
    "min_val = nume_col_profiles.min(axis=0)\n",
    "max_val = nume_col_profiles.max(axis=0)\n",
    "\n",
    "nume_col_profiles_df = pd.DataFrame([missing_ratio,min_val,max_val],index=['missing_ratio','min','max'])\n",
    "nume_col_profiles_df"
   ]
  },
  {
   "attachments": {},
   "cell_type": "markdown",
   "metadata": {},
   "source": [
    "#### Comment\n",
    "- Column \"Offers\" has a maximum value of up to 97.24% => there are products with almost 100% discount."
   ]
  },
  {
   "cell_type": "markdown",
   "metadata": {},
   "source": [
    "### With each categorical column, how are values distributed?\n"
   ]
  },
  {
   "cell_type": "markdown",
   "metadata": {},
   "source": [
    "`data_df` contains 10 categorical columns: 'Uniq Id', 'Category', 'Product Title', 'Product Description', Brand', 'Site Name', 'Combo Offers', 'Stock Availibility', 'Product Asin', 'Image Urls'.\n",
    "\n",
    "For each of categorical column, compute the percentage of missing values, number of different values (missing values are not counted), a list of different values (missing values are not counted) and store them into a dataframe named `cate_col_profiles_df`. This dataframe contains 3 rows (\"missing_ratio\", \"num_diff_vals\", \"diff_vals\") and 7 columns ('Uniq Id', 'Category', 'Product Title', 'Product Description', Brand', 'Site Name', 'Combo Offers', 'Stock Availibility', 'Product Asin', 'Image Urls'.)."
   ]
  },
  {
   "cell_type": "code",
   "execution_count": 13,
   "metadata": {},
   "outputs": [
    {
     "data": {
      "text/html": [
       "<div>\n",
       "<style scoped>\n",
       "    .dataframe tbody tr th:only-of-type {\n",
       "        vertical-align: middle;\n",
       "    }\n",
       "\n",
       "    .dataframe tbody tr th {\n",
       "        vertical-align: top;\n",
       "    }\n",
       "\n",
       "    .dataframe thead th {\n",
       "        text-align: right;\n",
       "    }\n",
       "</style>\n",
       "<table border=\"1\" class=\"dataframe\">\n",
       "  <thead>\n",
       "    <tr style=\"text-align: right;\">\n",
       "      <th></th>\n",
       "      <th>Uniq Id</th>\n",
       "      <th>Category</th>\n",
       "      <th>Product Title</th>\n",
       "      <th>Product Description</th>\n",
       "      <th>Brand</th>\n",
       "      <th>Site Name</th>\n",
       "      <th>Combo Offers</th>\n",
       "      <th>Stock Availibility</th>\n",
       "      <th>Product Asin</th>\n",
       "      <th>Image Urls</th>\n",
       "    </tr>\n",
       "  </thead>\n",
       "  <tbody>\n",
       "    <tr>\n",
       "      <th>missing_ratio</th>\n",
       "      <td>0.0</td>\n",
       "      <td>0.0</td>\n",
       "      <td>0.0</td>\n",
       "      <td>6.633333</td>\n",
       "      <td>0.29</td>\n",
       "      <td>0.0</td>\n",
       "      <td>99.876667</td>\n",
       "      <td>0.0</td>\n",
       "      <td>0.0</td>\n",
       "      <td>0.0</td>\n",
       "    </tr>\n",
       "    <tr>\n",
       "      <th>num_diff_vals</th>\n",
       "      <td>30000</td>\n",
       "      <td>6</td>\n",
       "      <td>29630</td>\n",
       "      <td>22584</td>\n",
       "      <td>8454</td>\n",
       "      <td>1</td>\n",
       "      <td>36</td>\n",
       "      <td>2</td>\n",
       "      <td>30000</td>\n",
       "      <td>29578</td>\n",
       "    </tr>\n",
       "    <tr>\n",
       "      <th>diff_vals</th>\n",
       "      <td>[eb49cc038190f6f03c272f79fbbce894, 1657cc30c43...</td>\n",
       "      <td>[Skin Care, Grocery &amp; Gourmet Foods, Bath &amp; Sh...</td>\n",
       "      <td>[ Lee posh Lactic Acid 60% Anti ageing Pigment...</td>\n",
       "      <td>[PROFESSIONAL GRADE Face Peel: this peel stimu...</td>\n",
       "      <td>[Lee Posh, SLB Works, Generic, Harveys, ShiKai...</td>\n",
       "      <td>[Amazon In]</td>\n",
       "      <td>[ Myoc Neem Face Wash: Buy 2 Neem face Wash 10...</td>\n",
       "      <td>[YES, NO]</td>\n",
       "      <td>[B072BGHNJ1, B07QDTZYSJ, B07DCSN8MP, B07GLW9VQ...</td>\n",
       "      <td>[https://images-na.ssl-images-amazon.com/image...</td>\n",
       "    </tr>\n",
       "  </tbody>\n",
       "</table>\n",
       "</div>"
      ],
      "text/plain": [
       "                                                         Uniq Id  \\\n",
       "missing_ratio                                                0.0   \n",
       "num_diff_vals                                              30000   \n",
       "diff_vals      [eb49cc038190f6f03c272f79fbbce894, 1657cc30c43...   \n",
       "\n",
       "                                                        Category  \\\n",
       "missing_ratio                                                0.0   \n",
       "num_diff_vals                                                  6   \n",
       "diff_vals      [Skin Care, Grocery & Gourmet Foods, Bath & Sh...   \n",
       "\n",
       "                                                   Product Title  \\\n",
       "missing_ratio                                                0.0   \n",
       "num_diff_vals                                              29630   \n",
       "diff_vals      [ Lee posh Lactic Acid 60% Anti ageing Pigment...   \n",
       "\n",
       "                                             Product Description  \\\n",
       "missing_ratio                                           6.633333   \n",
       "num_diff_vals                                              22584   \n",
       "diff_vals      [PROFESSIONAL GRADE Face Peel: this peel stimu...   \n",
       "\n",
       "                                                           Brand    Site Name  \\\n",
       "missing_ratio                                               0.29          0.0   \n",
       "num_diff_vals                                               8454            1   \n",
       "diff_vals      [Lee Posh, SLB Works, Generic, Harveys, ShiKai...  [Amazon In]   \n",
       "\n",
       "                                                    Combo Offers  \\\n",
       "missing_ratio                                          99.876667   \n",
       "num_diff_vals                                                 36   \n",
       "diff_vals      [ Myoc Neem Face Wash: Buy 2 Neem face Wash 10...   \n",
       "\n",
       "              Stock Availibility  \\\n",
       "missing_ratio                0.0   \n",
       "num_diff_vals                  2   \n",
       "diff_vals              [YES, NO]   \n",
       "\n",
       "                                                    Product Asin  \\\n",
       "missing_ratio                                                0.0   \n",
       "num_diff_vals                                              30000   \n",
       "diff_vals      [B072BGHNJ1, B07QDTZYSJ, B07DCSN8MP, B07GLW9VQ...   \n",
       "\n",
       "                                                      Image Urls  \n",
       "missing_ratio                                                0.0  \n",
       "num_diff_vals                                              29578  \n",
       "diff_vals      [https://images-na.ssl-images-amazon.com/image...  "
      ]
     },
     "execution_count": 13,
     "metadata": {},
     "output_type": "execute_result"
    }
   ],
   "source": [
    "def get_different_values(col):\n",
    "    return pd.unique(col.dropna())\n",
    "\n",
    "cate_col_profiles = data_df.loc[:,['Uniq Id', 'Category', 'Product Title', 'Product Description', 'Brand', 'Site Name', 'Combo Offers', 'Stock Availibility', 'Product Asin', 'Image Urls']]\n",
    "missing_ratio = cate_col_profiles.isnull().sum(axis=0) / num_rows*100\n",
    "num_diff_vals = cate_col_profiles.nunique()\n",
    "diff_vals = cate_col_profiles.agg(get_different_values)\n",
    "\n",
    "cate_col_profiles_df = pd.DataFrame([missing_ratio,num_diff_vals,diff_vals], index=[\"missing_ratio\", \"num_diff_vals\", \"diff_vals\"])\n",
    "cate_col_profiles_df\n"
   ]
  },
  {
   "attachments": {},
   "cell_type": "markdown",
   "metadata": {},
   "source": [
    "#### Comment\n",
    "- We see that the \"missing_ration\" value of the \"Combo Offers\" column is approximately 100% => almost all products are retail."
   ]
  },
  {
   "attachments": {},
   "cell_type": "markdown",
   "metadata": {},
   "source": [
    "## 3. Propose meaningful questions & Answer them"
   ]
  },
  {
   "cell_type": "markdown",
   "metadata": {},
   "source": [
    "After exploring and having a better knowledge about data, we can answer some questions based on data:\n",
    "- What is the most discounted item?\n",
    "- How does the number of products change by category?"
   ]
  },
  {
   "cell_type": "markdown",
   "metadata": {},
   "source": [
    "## Preprocess"
   ]
  },
  {
   "cell_type": "markdown",
   "metadata": {},
   "source": [
    "### Add column \"Discounted price\" to  dataframe"
   ]
  },
  {
   "cell_type": "markdown",
   "metadata": {},
   "source": [
    "To answer the questions above, we need more information about the discounted price of each product. Therefore, before analyzing to answer the questions, the reason must be preprocessed by adding the column `discounted price` (price reduced in product) to `data_df`. At this point, `data_df` will be changed."
   ]
  },
  {
   "cell_type": "code",
   "execution_count": 14,
   "metadata": {},
   "outputs": [
    {
     "data": {
      "text/html": [
       "<div>\n",
       "<style scoped>\n",
       "    .dataframe tbody tr th:only-of-type {\n",
       "        vertical-align: middle;\n",
       "    }\n",
       "\n",
       "    .dataframe tbody tr th {\n",
       "        vertical-align: top;\n",
       "    }\n",
       "\n",
       "    .dataframe thead th {\n",
       "        text-align: right;\n",
       "    }\n",
       "</style>\n",
       "<table border=\"1\" class=\"dataframe\">\n",
       "  <thead>\n",
       "    <tr style=\"text-align: right;\">\n",
       "      <th></th>\n",
       "      <th>Uniq Id</th>\n",
       "      <th>Crawl Timestamp</th>\n",
       "      <th>Category</th>\n",
       "      <th>Product Title</th>\n",
       "      <th>Product Description</th>\n",
       "      <th>Brand</th>\n",
       "      <th>Pack Size Or Quantity</th>\n",
       "      <th>Mrp</th>\n",
       "      <th>Price</th>\n",
       "      <th>Site Name</th>\n",
       "      <th>Offers</th>\n",
       "      <th>Combo Offers</th>\n",
       "      <th>Stock Availibility</th>\n",
       "      <th>Product Asin</th>\n",
       "      <th>Image Urls</th>\n",
       "      <th>price is reduced</th>\n",
       "    </tr>\n",
       "  </thead>\n",
       "  <tbody>\n",
       "    <tr>\n",
       "      <th>0</th>\n",
       "      <td>eb49cc038190f6f03c272f79fbbce894</td>\n",
       "      <td>2019-10-30 11:38:11+00:00</td>\n",
       "      <td>Skin Care</td>\n",
       "      <td>Lee posh Lactic Acid 60% Anti ageing Pigmenta...</td>\n",
       "      <td>PROFESSIONAL GRADE Face Peel: this peel stimul...</td>\n",
       "      <td>Lee Posh</td>\n",
       "      <td>NaN</td>\n",
       "      <td>2000.0</td>\n",
       "      <td>799.0</td>\n",
       "      <td>Amazon In</td>\n",
       "      <td>60.05</td>\n",
       "      <td>NaN</td>\n",
       "      <td>YES</td>\n",
       "      <td>B072BGHNJ1</td>\n",
       "      <td>https://images-na.ssl-images-amazon.com/images...</td>\n",
       "      <td>1201.0000</td>\n",
       "    </tr>\n",
       "    <tr>\n",
       "      <th>1</th>\n",
       "      <td>1657cc30c438affede6a5060d6847363</td>\n",
       "      <td>2019-10-31 15:46:54+00:00</td>\n",
       "      <td>Skin Care</td>\n",
       "      <td>Branded SLB Works New 1.5mm Titanium 1200 nee...</td>\n",
       "      <td>Item name: 1.5mm titanium 1200 needles microne...</td>\n",
       "      <td>SLB Works</td>\n",
       "      <td>NaN</td>\n",
       "      <td>2040.0</td>\n",
       "      <td>2040.0</td>\n",
       "      <td>Amazon In</td>\n",
       "      <td>0.00</td>\n",
       "      <td>NaN</td>\n",
       "      <td>YES</td>\n",
       "      <td>B07QDTZYSJ</td>\n",
       "      <td>https://images-na.ssl-images-amazon.com/images...</td>\n",
       "      <td>0.0000</td>\n",
       "    </tr>\n",
       "    <tr>\n",
       "      <th>2</th>\n",
       "      <td>41654633cce38c8650690f6dbac01fd3</td>\n",
       "      <td>2019-10-30 09:53:23+00:00</td>\n",
       "      <td>Skin Care</td>\n",
       "      <td>Generic 1 Pc brand snail eye cream remove dar...</td>\n",
       "      <td>Use: eye, item type: cream, net wt: 20g, gzzz:...</td>\n",
       "      <td>Generic</td>\n",
       "      <td>NaN</td>\n",
       "      <td>1824.0</td>\n",
       "      <td>1042.0</td>\n",
       "      <td>Amazon In</td>\n",
       "      <td>42.87</td>\n",
       "      <td>NaN</td>\n",
       "      <td>YES</td>\n",
       "      <td>B07DCSN8MP</td>\n",
       "      <td>https://images-na.ssl-images-amazon.com/images...</td>\n",
       "      <td>781.9488</td>\n",
       "    </tr>\n",
       "    <tr>\n",
       "      <th>3</th>\n",
       "      <td>08b1bd85c3efc2d7aa556fd79b073382</td>\n",
       "      <td>2019-10-29 16:16:52+00:00</td>\n",
       "      <td>Skin Care</td>\n",
       "      <td>Generic Anti Snoring Snore Stopper Sleep Apne...</td>\n",
       "      <td>Prevent the tongue from dropping backward or b...</td>\n",
       "      <td>Generic</td>\n",
       "      <td>NaN</td>\n",
       "      <td>2185.0</td>\n",
       "      <td>1399.0</td>\n",
       "      <td>Amazon In</td>\n",
       "      <td>35.97</td>\n",
       "      <td>NaN</td>\n",
       "      <td>YES</td>\n",
       "      <td>B07GLW9VQN</td>\n",
       "      <td>https://images-na.ssl-images-amazon.com/images...</td>\n",
       "      <td>785.9445</td>\n",
       "    </tr>\n",
       "    <tr>\n",
       "      <th>4</th>\n",
       "      <td>3ac3f213732512d1d11bb73ab3b1900f</td>\n",
       "      <td>2019-10-31 09:32:06+00:00</td>\n",
       "      <td>Grocery &amp; Gourmet Foods</td>\n",
       "      <td>Harveys Crunchy &amp; Creame Gourmet Delicacies C...</td>\n",
       "      <td>Harvey's wafer Cream Wafer 110g. Made in India</td>\n",
       "      <td>Harveys</td>\n",
       "      <td>NaN</td>\n",
       "      <td>594.0</td>\n",
       "      <td>570.0</td>\n",
       "      <td>Amazon In</td>\n",
       "      <td>4.04</td>\n",
       "      <td>NaN</td>\n",
       "      <td>YES</td>\n",
       "      <td>B07NFYYLF1</td>\n",
       "      <td>https://images-na.ssl-images-amazon.com/images...</td>\n",
       "      <td>23.9976</td>\n",
       "    </tr>\n",
       "  </tbody>\n",
       "</table>\n",
       "</div>"
      ],
      "text/plain": [
       "                            Uniq Id           Crawl Timestamp  \\\n",
       "0  eb49cc038190f6f03c272f79fbbce894 2019-10-30 11:38:11+00:00   \n",
       "1  1657cc30c438affede6a5060d6847363 2019-10-31 15:46:54+00:00   \n",
       "2  41654633cce38c8650690f6dbac01fd3 2019-10-30 09:53:23+00:00   \n",
       "3  08b1bd85c3efc2d7aa556fd79b073382 2019-10-29 16:16:52+00:00   \n",
       "4  3ac3f213732512d1d11bb73ab3b1900f 2019-10-31 09:32:06+00:00   \n",
       "\n",
       "                  Category                                      Product Title  \\\n",
       "0                Skin Care   Lee posh Lactic Acid 60% Anti ageing Pigmenta...   \n",
       "1                Skin Care   Branded SLB Works New 1.5mm Titanium 1200 nee...   \n",
       "2                Skin Care   Generic 1 Pc brand snail eye cream remove dar...   \n",
       "3                Skin Care   Generic Anti Snoring Snore Stopper Sleep Apne...   \n",
       "4  Grocery & Gourmet Foods   Harveys Crunchy & Creame Gourmet Delicacies C...   \n",
       "\n",
       "                                 Product Description      Brand  \\\n",
       "0  PROFESSIONAL GRADE Face Peel: this peel stimul...   Lee Posh   \n",
       "1  Item name: 1.5mm titanium 1200 needles microne...  SLB Works   \n",
       "2  Use: eye, item type: cream, net wt: 20g, gzzz:...    Generic   \n",
       "3  Prevent the tongue from dropping backward or b...    Generic   \n",
       "4     Harvey's wafer Cream Wafer 110g. Made in India    Harveys   \n",
       "\n",
       "   Pack Size Or Quantity     Mrp   Price  Site Name  Offers Combo Offers  \\\n",
       "0                    NaN  2000.0   799.0  Amazon In   60.05          NaN   \n",
       "1                    NaN  2040.0  2040.0  Amazon In    0.00          NaN   \n",
       "2                    NaN  1824.0  1042.0  Amazon In   42.87          NaN   \n",
       "3                    NaN  2185.0  1399.0  Amazon In   35.97          NaN   \n",
       "4                    NaN   594.0   570.0  Amazon In    4.04          NaN   \n",
       "\n",
       "  Stock Availibility Product Asin  \\\n",
       "0                YES   B072BGHNJ1   \n",
       "1                YES   B07QDTZYSJ   \n",
       "2                YES   B07DCSN8MP   \n",
       "3                YES   B07GLW9VQN   \n",
       "4                YES   B07NFYYLF1   \n",
       "\n",
       "                                          Image Urls  price is reduced  \n",
       "0  https://images-na.ssl-images-amazon.com/images...         1201.0000  \n",
       "1  https://images-na.ssl-images-amazon.com/images...            0.0000  \n",
       "2  https://images-na.ssl-images-amazon.com/images...          781.9488  \n",
       "3  https://images-na.ssl-images-amazon.com/images...          785.9445  \n",
       "4  https://images-na.ssl-images-amazon.com/images...           23.9976  "
      ]
     },
     "execution_count": 14,
     "metadata": {},
     "output_type": "execute_result"
    }
   ],
   "source": [
    "series_price_is_reduced = data_df['Mrp'] * data_df['Offers']/100\n",
    "series_price_is_reduced.name = \"price is reduced\"\n",
    "\n",
    "data_df = pd.concat([data_df,series_price_is_reduced],axis=1)\n",
    "data_df.head(5)"
   ]
  },
  {
   "attachments": {},
   "cell_type": "markdown",
   "metadata": {},
   "source": [
    "## Analyze data to answer questions"
   ]
  },
  {
   "attachments": {},
   "cell_type": "markdown",
   "metadata": {},
   "source": [
    "### What kind of items are the most discounted at Amazon?\n",
    "\n",
    "- The item type here is stored in the \"Category\" column. Save the results in the dict `top_discount` in the order that the first element has the most discounts, the second element has the second most discounts, ...\n",
    "- Idea: we will sum the discounted prices in each Category. Store in dict variable `top_discount` and sort in descending order then get the first element of this dictionary"
   ]
  },
  {
   "cell_type": "code",
   "execution_count": 15,
   "metadata": {},
   "outputs": [
    {
     "data": {
      "text/plain": [
       "('Skin Care', 10400674.049084)"
      ]
     },
     "execution_count": 15,
     "metadata": {},
     "output_type": "execute_result"
    }
   ],
   "source": [
    "\n",
    "top = data_df.groupby(['Category','price is reduced']).size()\n",
    "\n",
    "dict_price_reduced_category = {}\n",
    "for i in pd.Series.unique(data_df['Category']):\n",
    "\n",
    "    all_price_reduce_cat = top[i].values * top[i].index\n",
    "    sum_price_reduce_cat = pd.Series(all_price_reduce_cat).sum()\n",
    "    dict_price_reduced_category[i] = sum_price_reduce_cat\n",
    "     \n",
    "sorted_dict_price_reduced_category = sorted(dict_price_reduced_category.items(), key=operator.itemgetter(1) , reverse =True)\n",
    "sorted_dict_price_reduced_category[0]\n"
   ]
  },
  {
   "attachments": {},
   "cell_type": "markdown",
   "metadata": {},
   "source": [
    "### How does the number of products change by category?\n",
    "- Purpose: to know the type of product that Amazon wants to target through the number of products of each category."
   ]
  },
  {
   "attachments": {},
   "cell_type": "markdown",
   "metadata": {},
   "source": [
    "In order to answer this question, we will perform 2 steps:\n",
    "- Step #1: Calculate the number of products of each category. save the results to the series `num_products_each_category`, where index is the category.\n",
    "<!-- The item type here is stored in the \"Category\" column. Save the results in dict `top1_discount` in order of products with the highest discount to the smallest. -->\n",
    "- Step #2: Draw a line chart. x-axis indicates category and y-axis indicates the number of products. Set the marker option to point for a better look. You should name the x-axis and y-axis \"Category\" and \"Product\", respectively."
   ]
  },
  {
   "attachments": {},
   "cell_type": "markdown",
   "metadata": {},
   "source": [
    "#### Step #1"
   ]
  },
  {
   "cell_type": "code",
   "execution_count": 16,
   "metadata": {},
   "outputs": [],
   "source": [
    "num_products_each_category = pd.Series(data_df['Category'].value_counts()\\\n",
    "                                       ,index = pd.Series.unique(data_df['Category']))"
   ]
  },
  {
   "attachments": {},
   "cell_type": "markdown",
   "metadata": {},
   "source": [
    "## Step #2"
   ]
  },
  {
   "cell_type": "code",
   "execution_count": 17,
   "metadata": {},
   "outputs": [
    {
     "data": {
      "image/png": "[encoded data removed]",
      "text/plain": [
       "<Figure size 640x480 with 1 Axes>"
      ]
     },
     "metadata": {},
     "output_type": "display_data"
    }
   ],
   "source": [
    "num_products_each_category.plot(kind=  'line',marker = '.',rot=30)\n",
    "plt.xlabel('Category')\n",
    "plt.ylabel('Product')\n",
    "\n",
    "plt.show()"
   ]
  },
  {
   "attachments": {},
   "cell_type": "markdown",
   "metadata": {},
   "source": [
    "#### Comment\n",
    "- From the results of the above two questions, we see that Indians are very interested in products in the category of skin care."
   ]
  },
  {
   "attachments": {},
   "cell_type": "markdown",
   "metadata": {},
   "source": [
    "## 4. Reflection"
   ]
  },
  {
   "attachments": {},
   "cell_type": "markdown",
   "metadata": {},
   "source": [
    "Difficulties encountered:\n",
    "- Learning library functions is a bit difficult."
   ]
  },
  {
   "attachments": {},
   "cell_type": "markdown",
   "metadata": {},
   "source": [
    "Lesson learned:\n",
    "- Know how to analyze an existing data.\n",
    "- Know how to use the commands available in the python library.\n",
    "- Know how to evaluate data through display parameters"
   ]
  },
  {
   "attachments": {},
   "cell_type": "markdown",
   "metadata": {},
   "source": [
    "## 5. References\n",
    "- Materials provided by the instructor."
   ]
  }
 ],
 "metadata": {
  "kernelspec": {
   "display_name": "min_ds-env",
   "language": "python",
   "name": "python3"
  },
  "language_info": {
   "codemirror_mode": {
    "name": "ipython",
    "version": 3
   },
   "file_extension": ".py",
   "mimetype": "text/x-python",
   "name": "python",
   "nbconvert_exporter": "python",
   "pygments_lexer": "ipython3",
   "version": "3.8.8"
  },
  "vscode": {
   "interpreter": {
    "hash": "1d3f9d39df391746fa2894b80f2ec02e0349bc5ac4bf3bcec37e2111f1bbb4b3"
   }
  }
 },
 "nbformat": 4,
 "nbformat_minor": 2
}
